{
  "metadata": {
    "accelerator": "GPU",
    "colab": {
      "provenance": []
    },
    "gpuClass": "standard",
    "kernelspec": {
      "name": "python3",
      "display_name": "Python 3",
      "language": "python"
    },
    "language_info": {
      "name": "python",
      "version": "3.7.12",
      "mimetype": "text/x-python",
      "codemirror_mode": {
        "name": "ipython",
        "version": 3
      },
      "pygments_lexer": "ipython3",
      "nbconvert_exporter": "python",
      "file_extension": ".py"
    },
    "vscode": {
      "interpreter": {
        "hash": "0e24ffd4e4325385237c06a23c8eac3fce3b2fa7306790366fd15f9cdb7ae0ff"
      }
    },
    "widgets": {
      "application/vnd.jupyter.widget-state+json": {
        "02f1a1f1d96e4829bc11897ddd0016db": {
          "model_module": "@jupyter-widgets/controls",
          "model_name": "HBoxModel",
          "model_module_version": "1.5.0",
          "state": {
            "_dom_classes": [],
            "_model_module": "@jupyter-widgets/controls",
            "_model_module_version": "1.5.0",
            "_model_name": "HBoxModel",
            "_view_count": null,
            "_view_module": "@jupyter-widgets/controls",
            "_view_module_version": "1.5.0",
            "_view_name": "HBoxView",
            "box_style": "",
            "children": [
              "IPY_MODEL_49b2de9ef8914d5d8118c24b555a9167",
              "IPY_MODEL_87554c6d58564de080fa115348afb9be",
              "IPY_MODEL_4cb54e56f8ab434089cc6fefb6fa4487"
            ],
            "layout": "IPY_MODEL_d06852afca7f4135b6da35dca995e3bc"
          }
        },
        "49b2de9ef8914d5d8118c24b555a9167": {
          "model_module": "@jupyter-widgets/controls",
          "model_name": "HTMLModel",
          "model_module_version": "1.5.0",
          "state": {
            "_dom_classes": [],
            "_model_module": "@jupyter-widgets/controls",
            "_model_module_version": "1.5.0",
            "_model_name": "HTMLModel",
            "_view_count": null,
            "_view_module": "@jupyter-widgets/controls",
            "_view_module_version": "1.5.0",
            "_view_name": "HTMLView",
            "description": "",
            "description_tooltip": null,
            "layout": "IPY_MODEL_e491eaa525114386acbce50bf6ceb3cd",
            "placeholder": "​",
            "style": "IPY_MODEL_8cd6aaf1365f49489b60a206608fca69",
            "value": "100%"
          }
        },
        "87554c6d58564de080fa115348afb9be": {
          "model_module": "@jupyter-widgets/controls",
          "model_name": "FloatProgressModel",
          "model_module_version": "1.5.0",
          "state": {
            "_dom_classes": [],
            "_model_module": "@jupyter-widgets/controls",
            "_model_module_version": "1.5.0",
            "_model_name": "FloatProgressModel",
            "_view_count": null,
            "_view_module": "@jupyter-widgets/controls",
            "_view_module_version": "1.5.0",
            "_view_name": "ProgressView",
            "bar_style": "success",
            "description": "",
            "description_tooltip": null,
            "layout": "IPY_MODEL_ef15c36461f948ef96c71c56b28a3b20",
            "max": 532199577,
            "min": 0,
            "orientation": "horizontal",
            "style": "IPY_MODEL_c0212667c0ab4aa8ae72a6b602d18d54",
            "value": 532199577
          }
        },
        "4cb54e56f8ab434089cc6fefb6fa4487": {
          "model_module": "@jupyter-widgets/controls",
          "model_name": "HTMLModel",
          "model_module_version": "1.5.0",
          "state": {
            "_dom_classes": [],
            "_model_module": "@jupyter-widgets/controls",
            "_model_module_version": "1.5.0",
            "_model_name": "HTMLModel",
            "_view_count": null,
            "_view_module": "@jupyter-widgets/controls",
            "_view_module_version": "1.5.0",
            "_view_name": "HTMLView",
            "description": "",
            "description_tooltip": null,
            "layout": "IPY_MODEL_f56af16fb8dd4c41b1850ffd16b8b8d6",
            "placeholder": "​",
            "style": "IPY_MODEL_3be060b9c37e4570989fe1beab4bd4c8",
            "value": " 508M/508M [00:07&lt;00:00, 75.7MB/s]"
          }
        },
        "d06852afca7f4135b6da35dca995e3bc": {
          "model_module": "@jupyter-widgets/base",
          "model_name": "LayoutModel",
          "model_module_version": "1.2.0",
          "state": {
            "_model_module": "@jupyter-widgets/base",
            "_model_module_version": "1.2.0",
            "_model_name": "LayoutModel",
            "_view_count": null,
            "_view_module": "@jupyter-widgets/base",
            "_view_module_version": "1.2.0",
            "_view_name": "LayoutView",
            "align_content": null,
            "align_items": null,
            "align_self": null,
            "border": null,
            "bottom": null,
            "display": null,
            "flex": null,
            "flex_flow": null,
            "grid_area": null,
            "grid_auto_columns": null,
            "grid_auto_flow": null,
            "grid_auto_rows": null,
            "grid_column": null,
            "grid_gap": null,
            "grid_row": null,
            "grid_template_areas": null,
            "grid_template_columns": null,
            "grid_template_rows": null,
            "height": null,
            "justify_content": null,
            "justify_items": null,
            "left": null,
            "margin": null,
            "max_height": null,
            "max_width": null,
            "min_height": null,
            "min_width": null,
            "object_fit": null,
            "object_position": null,
            "order": null,
            "overflow": null,
            "overflow_x": null,
            "overflow_y": null,
            "padding": null,
            "right": null,
            "top": null,
            "visibility": null,
            "width": null
          }
        },
        "e491eaa525114386acbce50bf6ceb3cd": {
          "model_module": "@jupyter-widgets/base",
          "model_name": "LayoutModel",
          "model_module_version": "1.2.0",
          "state": {
            "_model_module": "@jupyter-widgets/base",
            "_model_module_version": "1.2.0",
            "_model_name": "LayoutModel",
            "_view_count": null,
            "_view_module": "@jupyter-widgets/base",
            "_view_module_version": "1.2.0",
            "_view_name": "LayoutView",
            "align_content": null,
            "align_items": null,
            "align_self": null,
            "border": null,
            "bottom": null,
            "display": null,
            "flex": null,
            "flex_flow": null,
            "grid_area": null,
            "grid_auto_columns": null,
            "grid_auto_flow": null,
            "grid_auto_rows": null,
            "grid_column": null,
            "grid_gap": null,
            "grid_row": null,
            "grid_template_areas": null,
            "grid_template_columns": null,
            "grid_template_rows": null,
            "height": null,
            "justify_content": null,
            "justify_items": null,
            "left": null,
            "margin": null,
            "max_height": null,
            "max_width": null,
            "min_height": null,
            "min_width": null,
            "object_fit": null,
            "object_position": null,
            "order": null,
            "overflow": null,
            "overflow_x": null,
            "overflow_y": null,
            "padding": null,
            "right": null,
            "top": null,
            "visibility": null,
            "width": null
          }
        },
        "8cd6aaf1365f49489b60a206608fca69": {
          "model_module": "@jupyter-widgets/controls",
          "model_name": "DescriptionStyleModel",
          "model_module_version": "1.5.0",
          "state": {
            "_model_module": "@jupyter-widgets/controls",
            "_model_module_version": "1.5.0",
            "_model_name": "DescriptionStyleModel",
            "_view_count": null,
            "_view_module": "@jupyter-widgets/base",
            "_view_module_version": "1.2.0",
            "_view_name": "StyleView",
            "description_width": ""
          }
        },
        "ef15c36461f948ef96c71c56b28a3b20": {
          "model_module": "@jupyter-widgets/base",
          "model_name": "LayoutModel",
          "model_module_version": "1.2.0",
          "state": {
            "_model_module": "@jupyter-widgets/base",
            "_model_module_version": "1.2.0",
            "_model_name": "LayoutModel",
            "_view_count": null,
            "_view_module": "@jupyter-widgets/base",
            "_view_module_version": "1.2.0",
            "_view_name": "LayoutView",
            "align_content": null,
            "align_items": null,
            "align_self": null,
            "border": null,
            "bottom": null,
            "display": null,
            "flex": null,
            "flex_flow": null,
            "grid_area": null,
            "grid_auto_columns": null,
            "grid_auto_flow": null,
            "grid_auto_rows": null,
            "grid_column": null,
            "grid_gap": null,
            "grid_row": null,
            "grid_template_areas": null,
            "grid_template_columns": null,
            "grid_template_rows": null,
            "height": null,
            "justify_content": null,
            "justify_items": null,
            "left": null,
            "margin": null,
            "max_height": null,
            "max_width": null,
            "min_height": null,
            "min_width": null,
            "object_fit": null,
            "object_position": null,
            "order": null,
            "overflow": null,
            "overflow_x": null,
            "overflow_y": null,
            "padding": null,
            "right": null,
            "top": null,
            "visibility": null,
            "width": null
          }
        },
        "c0212667c0ab4aa8ae72a6b602d18d54": {
          "model_module": "@jupyter-widgets/controls",
          "model_name": "ProgressStyleModel",
          "model_module_version": "1.5.0",
          "state": {
            "_model_module": "@jupyter-widgets/controls",
            "_model_module_version": "1.5.0",
            "_model_name": "ProgressStyleModel",
            "_view_count": null,
            "_view_module": "@jupyter-widgets/base",
            "_view_module_version": "1.2.0",
            "_view_name": "StyleView",
            "bar_color": null,
            "description_width": ""
          }
        },
        "f56af16fb8dd4c41b1850ffd16b8b8d6": {
          "model_module": "@jupyter-widgets/base",
          "model_name": "LayoutModel",
          "model_module_version": "1.2.0",
          "state": {
            "_model_module": "@jupyter-widgets/base",
            "_model_module_version": "1.2.0",
            "_model_name": "LayoutModel",
            "_view_count": null,
            "_view_module": "@jupyter-widgets/base",
            "_view_module_version": "1.2.0",
            "_view_name": "LayoutView",
            "align_content": null,
            "align_items": null,
            "align_self": null,
            "border": null,
            "bottom": null,
            "display": null,
            "flex": null,
            "flex_flow": null,
            "grid_area": null,
            "grid_auto_columns": null,
            "grid_auto_flow": null,
            "grid_auto_rows": null,
            "grid_column": null,
            "grid_gap": null,
            "grid_row": null,
            "grid_template_areas": null,
            "grid_template_columns": null,
            "grid_template_rows": null,
            "height": null,
            "justify_content": null,
            "justify_items": null,
            "left": null,
            "margin": null,
            "max_height": null,
            "max_width": null,
            "min_height": null,
            "min_width": null,
            "object_fit": null,
            "object_position": null,
            "order": null,
            "overflow": null,
            "overflow_x": null,
            "overflow_y": null,
            "padding": null,
            "right": null,
            "top": null,
            "visibility": null,
            "width": null
          }
        },
        "3be060b9c37e4570989fe1beab4bd4c8": {
          "model_module": "@jupyter-widgets/controls",
          "model_name": "DescriptionStyleModel",
          "model_module_version": "1.5.0",
          "state": {
            "_model_module": "@jupyter-widgets/controls",
            "_model_module_version": "1.5.0",
            "_model_name": "DescriptionStyleModel",
            "_view_count": null,
            "_view_module": "@jupyter-widgets/base",
            "_view_module_version": "1.2.0",
            "_view_name": "StyleView",
            "description_width": ""
          }
        }
      }
    }
  },
  "nbformat_minor": 0,
  "nbformat": 4,
  "cells": [
    {
      "cell_type": "code",
      "source": [
        "!pip install mlflow > /dev/null"
      ],
      "metadata": {
        "id": "WZAQ25lTLWsa",
        "execution": {
          "iopub.status.busy": "2022-11-29T21:56:09.427115Z",
          "iopub.execute_input": "2022-11-29T21:56:09.427584Z",
          "iopub.status.idle": "2022-11-29T21:56:21.564542Z",
          "shell.execute_reply.started": "2022-11-29T21:56:09.427544Z",
          "shell.execute_reply": "2022-11-29T21:56:21.563283Z"
        },
        "trusted": true
      },
      "execution_count": 1,
      "outputs": []
    },
    {
      "cell_type": "code",
      "source": [
        "!pip install kaggle > /dev/null"
      ],
      "metadata": {
        "id": "VK9q6wLfyIjT"
      },
      "execution_count": 2,
      "outputs": []
    },
    {
      "cell_type": "code",
      "source": [
        "!pip install streamlit > /dev/null"
      ],
      "metadata": {
        "id": "wkVMM79MovBE"
      },
      "execution_count": 79,
      "outputs": []
    },
    {
      "cell_type": "code",
      "source": [
        "!rm -r ~/.kaggle"
      ],
      "metadata": {
        "colab": {
          "base_uri": "https://localhost:8080/"
        },
        "id": "G5Y4dDHuyNfm",
        "outputId": "7fb32412-6f7a-4609-c08f-04f50a9e592d"
      },
      "execution_count": 3,
      "outputs": [
        {
          "output_type": "stream",
          "name": "stdout",
          "text": [
            "rm: cannot remove '/root/.kaggle': No such file or directory\n"
          ]
        }
      ]
    },
    {
      "cell_type": "code",
      "source": [
        "!mkdir ~/.kaggle\n",
        "!cp kaggle.json ~/.kaggle/\n",
        "!chmod 600 ~/.kaggle/kaggle.json"
      ],
      "metadata": {
        "id": "n5FJYjN6zDyK"
      },
      "execution_count": 4,
      "outputs": []
    },
    {
      "cell_type": "code",
      "source": [
        "!npm install -g localtunnel >/dev/null"
      ],
      "metadata": {
        "colab": {
          "base_uri": "https://localhost:8080/"
        },
        "id": "AwXROUVP8h8R",
        "outputId": "18898e30-0731-4323-f015-034c75309aed",
        "execution": {
          "iopub.status.busy": "2022-11-29T21:56:03.748473Z",
          "iopub.status.idle": "2022-11-29T21:56:03.749206Z",
          "shell.execute_reply.started": "2022-11-29T21:56:03.748841Z",
          "shell.execute_reply": "2022-11-29T21:56:03.748876Z"
        },
        "trusted": true
      },
      "execution_count": 5,
      "outputs": [
        {
          "output_type": "stream",
          "name": "stdout",
          "text": [
            "\u001b[K\u001b[?25h"
          ]
        }
      ]
    },
    {
      "cell_type": "code",
      "source": [
        "get_ipython().system_raw(\"mlflow ui --port 5000 &\")\n",
        "get_ipython().system_raw('lt --port 5000 >> url.txt 2>&1 &')"
      ],
      "metadata": {
        "id": "POBAXTji7wzF",
        "execution": {
          "iopub.status.busy": "2022-11-29T21:57:05.218376Z",
          "iopub.execute_input": "2022-11-29T21:57:05.218737Z",
          "iopub.status.idle": "2022-11-29T21:57:05.237620Z",
          "shell.execute_reply.started": "2022-11-29T21:57:05.218704Z",
          "shell.execute_reply": "2022-11-29T21:57:05.236271Z"
        },
        "trusted": true
      },
      "execution_count": 6,
      "outputs": []
    },
    {
      "cell_type": "code",
      "source": [
        "import seaborn as sns"
      ],
      "metadata": {
        "id": "5KMT9KTRepDM"
      },
      "execution_count": 43,
      "outputs": []
    },
    {
      "cell_type": "code",
      "source": [
        "import os\n",
        "import random\n",
        "import shutil\n",
        "from torchvision import transforms\n",
        "from torchvision.datasets import ImageFolder\n",
        "import torchvision\n",
        "import torch\n",
        "from torch import nn,optim\n",
        "import torch.nn.functional as F\n",
        "import numpy as np\n",
        "import matplotlib.pyplot as plt\n",
        "from mlflow import log_metric, log_param, log_artifacts, log_params, log_metrics\n",
        "import mlflow\n",
        "from tqdm import tqdm\n",
        "random.seed(12)\n",
        "torch.manual_seed(12)\n",
        "np.random.seed(12)"
      ],
      "metadata": {
        "id": "m8xA3sifCgbv",
        "trusted": true
      },
      "execution_count": 7,
      "outputs": []
    },
    {
      "cell_type": "markdown",
      "source": [
        "### Data Loading"
      ],
      "metadata": {
        "id": "2b9HCC3FCgbw"
      }
    },
    {
      "cell_type": "code",
      "source": [
        "!rm -r test\n",
        "!rm -r train\n",
        "!rm -r val"
      ],
      "metadata": {
        "id": "7wHOI9pPC8EC",
        "colab": {
          "base_uri": "https://localhost:8080/"
        },
        "outputId": "5753855a-a77c-4d46-c552-73a128b221fd",
        "trusted": true
      },
      "execution_count": 8,
      "outputs": [
        {
          "output_type": "stream",
          "name": "stdout",
          "text": [
            "rm: cannot remove 'test': No such file or directory\n",
            "rm: cannot remove 'train': No such file or directory\n",
            "rm: cannot remove 'val': No such file or directory\n"
          ]
        }
      ]
    },
    {
      "cell_type": "code",
      "source": [
        "!kaggle datasets download whenamancodes/wild-animals-images "
      ],
      "metadata": {
        "colab": {
          "base_uri": "https://localhost:8080/"
        },
        "id": "nWdsVpBXyrqe",
        "outputId": "51b4fcc7-914e-4727-ccd4-4a82dd1bcfeb"
      },
      "execution_count": 9,
      "outputs": [
        {
          "output_type": "stream",
          "name": "stdout",
          "text": [
            "Downloading wild-animals-images.zip to /content\n",
            "100% 0.98G/0.98G [00:44<00:00, 24.8MB/s]\n",
            "100% 0.98G/0.98G [00:44<00:00, 23.8MB/s]\n"
          ]
        }
      ]
    },
    {
      "cell_type": "code",
      "source": [
        "!unzip wild-animals-images.zip -d ../animal-data >/dev/null"
      ],
      "metadata": {
        "id": "Ge2GiamIyuIQ"
      },
      "execution_count": 10,
      "outputs": []
    },
    {
      "cell_type": "code",
      "source": [
        "for img in ['../animal-data/hyena-resize-512/resize-512/00000224_512resized.png','../animal-data/cheetah-resize-512/resize-512/00000244_512resized.png']:\n",
        "  os.remove(img)"
      ],
      "metadata": {
        "id": "_wI-YH8YL39S",
        "trusted": true
      },
      "execution_count": 11,
      "outputs": []
    },
    {
      "cell_type": "code",
      "source": [
        "split_size = {'train':0.7,\n",
        "              'test' : 0.15,\n",
        "              'val': 0.15}\n",
        "for class_i in os.listdir('../animal-data/'):\n",
        "        if class_i.endswith('512'):\n",
        "          class_name = class_i.split('-')[0]\n",
        "          resize_dir = os.listdir(f'../animal-data/{class_i}')[-1]\n",
        "          images  = os.listdir(f'../animal-data/{class_i}/{resize_dir}')\n",
        "          random.Random(2).shuffle(images)\n",
        "          curr_index = 0\n",
        "          for curr_split in ['train','test','val']:\n",
        "            os.makedirs(f'./{curr_split}/{class_name}')\n",
        "            for img in images[curr_index : curr_index + int(len(images) * split_size[curr_split])]:\n",
        "              shutil.move(f'../animal-data/{class_i}/{resize_dir}/{img}',f'./{curr_split}/{class_name}/')\n",
        "            curr_index += int(len(images) * split_size[curr_split])"
      ],
      "metadata": {
        "id": "9ElQVRg1Cgbx",
        "trusted": true
      },
      "execution_count": 12,
      "outputs": []
    },
    {
      "cell_type": "code",
      "source": [
        "device = torch.device(\"cuda\" if torch.cuda.is_available() else \"cpu\")"
      ],
      "metadata": {
        "id": "7fOikg9YinJq",
        "trusted": true
      },
      "execution_count": 13,
      "outputs": []
    },
    {
      "cell_type": "markdown",
      "source": [
        "## Helper Functions"
      ],
      "metadata": {
        "id": "bVLGsCtcVb1o"
      }
    },
    {
      "cell_type": "code",
      "source": [
        "criterion = nn.CrossEntropyLoss()\n",
        "## Source [https://pytorch.org/tutorials/beginner/blitz/cifar10_tutorial.html]\n",
        "## Refered the syntax for writing training loop from above source\n",
        "def train_step(model,optimizer,inputs,labels):\n",
        "    ## train a batch\n",
        "    model.train()\n",
        "    optimizer.zero_grad()\n",
        "    with torch.set_grad_enabled(True):\n",
        "      outputs = model(inputs)\n",
        "      loss = criterion(outputs, labels)\n",
        "    loss.backward()\n",
        "    optimizer.step()\n",
        "    return loss.item()\n",
        "\n",
        "def validation(model,val_dataloader):\n",
        "    #validation loss for the model\n",
        "    model.eval()\n",
        "    val_loss = 0\n",
        "    for inputs, labels in val_dataloader:\n",
        "        inputs = inputs.to(device)\n",
        "        labels = labels.to(device)\n",
        "        with torch.no_grad():\n",
        "          outputs = model(inputs)\n",
        "          loss =  criterion(outputs, labels)\n",
        "        val_loss += loss.item()\n",
        "    return val_loss\n",
        "\n",
        "def test(model,test_dataloader):\n",
        "  model.eval()\n",
        "  total_examples = 0\n",
        "  correct_pred = 0\n",
        "  for inputs,labels in test_dataloader:\n",
        "    inputs = inputs.to(device)\n",
        "    labels = labels.to(device)\n",
        "    with torch.no_grad():\n",
        "      outputs = model(inputs).argmax(1).cpu()\n",
        "      total_examples += outputs.shape[0]\n",
        "      correct_pred += (outputs.numpy() == labels.cpu().numpy()).sum()\n",
        "  acc = correct_pred/total_examples\n",
        "  return acc"
      ],
      "metadata": {
        "id": "nwdfCAeLCgb0",
        "trusted": true
      },
      "execution_count": 14,
      "outputs": []
    },
    {
      "cell_type": "markdown",
      "source": [
        "### Data Preprocessing"
      ],
      "metadata": {
        "id": "8XNTfbEFCgby"
      }
    },
    {
      "cell_type": "code",
      "source": [
        "transform = transforms.Compose(\n",
        "    [transforms.ToTensor(),\n",
        "     transforms.Resize((128,128)),\n",
        "     transforms.Normalize((0.5, 0.5, 0.5), (0.5, 0.5, 0.5))])\n",
        "\n",
        "batch_size = 16\n",
        "train_set = ImageFolder(root='./train', transform=transform)\n",
        "val_set = ImageFolder(root='./val', transform=transform)\n",
        "test_set = ImageFolder(root='./test', transform=transform)"
      ],
      "metadata": {
        "id": "EmlZ-I3hCgby",
        "trusted": true
      },
      "execution_count": 15,
      "outputs": []
    },
    {
      "cell_type": "code",
      "source": [
        "train_dataloader = torch.utils.data.DataLoader(train_set, batch_size=batch_size,shuffle=True, num_workers=1)\n",
        "val_dataloader = torch.utils.data.DataLoader(val_set, batch_size=batch_size,shuffle=False, num_workers=1)\n",
        "test_dataloader = torch.utils.data.DataLoader(test_set, batch_size=batch_size,shuffle=False, num_workers=1)\n",
        "classes = train_set.classes"
      ],
      "metadata": {
        "id": "4yvgHvm-Cgby",
        "trusted": true
      },
      "execution_count": 16,
      "outputs": []
    },
    {
      "cell_type": "code",
      "source": [
        "## Source [https://pytorch.org/tutorials/beginner/blitz/cifar10_tutorial.html]\n",
        "## this code block to visualize images from data loader is taken from above source\n",
        "# functions to show an image\n",
        "def imshow(img):\n",
        "    img = img / 2 + 0.5     # unnormalize\n",
        "    npimg = img.numpy()\n",
        "    plt.imshow(np.transpose(npimg, (1, 2, 0)))\n",
        "    plt.show()\n",
        "\n",
        "\n",
        "# get some random training images\n",
        "dataiter = iter(train_dataloader)\n",
        "images, labels = next(dataiter)\n",
        "print(labels)\n",
        "# show images\n",
        "imshow(torchvision.utils.make_grid(images[:4]))\n",
        "# print labels\n",
        "print(' '.join(f'{classes[labels[:4][j]]:5s}' for j in range(4)))"
      ],
      "metadata": {
        "id": "1sGD6zbcCgbz",
        "trusted": true,
        "colab": {
          "base_uri": "https://localhost:8080/",
          "height": 172
        },
        "outputId": "5a7e9bc2-7a87-4352-cf48-546ed82f2f64"
      },
      "execution_count": 65,
      "outputs": [
        {
          "output_type": "stream",
          "name": "stdout",
          "text": [
            "tensor([2, 0, 3, 2, 0, 1, 3, 0, 2, 5, 0, 1, 3, 2, 4, 0])\n"
          ]
        },
        {
          "output_type": "display_data",
          "data": {
            "text/plain": [
              "<Figure size 432x288 with 1 Axes>"
            ],
            "image/png": "[encoded data removed]"
          },
          "metadata": {
            "needs_background": "light"
          }
        },
        {
          "output_type": "stream",
          "name": "stdout",
          "text": [
            "hyena cheetah lion  hyena\n"
          ]
        }
      ]
    },
    {
      "cell_type": "code",
      "source": [
        "for class_i in os.listdir('./test'):\n",
        "  class_dir = f'./test/{class_i}'\n",
        "  print(f'Instances of {class_i} : {len(os.listdir(class_dir))}')"
      ],
      "metadata": {
        "id": "ZWwUGk6RCgb0",
        "trusted": true,
        "colab": {
          "base_uri": "https://localhost:8080/"
        },
        "outputId": "c533db3a-dde9-4a53-a9bc-d8ea95275088"
      },
      "execution_count": 18,
      "outputs": [
        {
          "output_type": "stream",
          "name": "stdout",
          "text": [
            "Instances of cheetah : 51\n",
            "Instances of fox : 37\n",
            "Instances of lion : 44\n",
            "Instances of hyena : 45\n",
            "Instances of wolf : 39\n",
            "Instances of tiger : 40\n"
          ]
        }
      ]
    },
    {
      "cell_type": "markdown",
      "source": [
        "## Baseline Model"
      ],
      "metadata": {
        "id": "RaHdbSHcCgb1"
      }
    },
    {
      "cell_type": "code",
      "source": [
        "class Model(nn.Module):\n",
        "    def __init__(self):\n",
        "        super().__init__()\n",
        "        self.conv1 = nn.Conv2d(3, 16, 3)\n",
        "        self.pool = nn.MaxPool2d(2, 2)\n",
        "        self.conv2 = nn.Conv2d(16, 32, 5)\n",
        "        self.conv3 = nn.Conv2d(32, 64, 5)\n",
        "        self.fc1 = nn.Linear(9216, 128)\n",
        "        self.fc2 = nn.Linear(128, 6)\n",
        "\n",
        "\n",
        "    def forward(self, x):\n",
        "        x = self.pool(F.relu(self.conv1(x)))\n",
        "        x = self.pool(F.relu(self.conv2(x)))\n",
        "        x = self.pool(F.relu(self.conv3(x)))\n",
        "        x = torch.flatten(x, 1) # flatten all dimensions except batch\n",
        "        x = F.relu(self.fc1(x))\n",
        "        x = self.fc2(x)\n",
        "        return x\n",
        "\n",
        "model = Model().to(device)"
      ],
      "metadata": {
        "id": "lpP9dzoJCgb1",
        "trusted": true
      },
      "execution_count": 19,
      "outputs": []
    },
    {
      "cell_type": "code",
      "source": [
        "model_params  = {'data_augmentation':False,'transfer learning':False,'conv and pool layers' : 3,'fully_connected_layers' : 2,'filters_size' : '3,5,5','batch_size' : 16}\n",
        "train_dataloader = torch.utils.data.DataLoader(train_set, batch_size=model_params['batch_size'],shuffle=True, num_workers=1)\n",
        "optimizer = optim.Adam(model.parameters(),0.001)"
      ],
      "metadata": {
        "id": "c6CnuF75Cgb1",
        "trusted": true
      },
      "execution_count": 20,
      "outputs": []
    },
    {
      "cell_type": "code",
      "source": [
        "with mlflow.start_run(run_name='Baseline_CNN',nested=True):\n",
        "  log_params(model_params)\n",
        "  step = 0\n",
        "  for epoch in range(10):  # loop over the dataset multiple times\n",
        "      running_loss = 0.0\n",
        "      for inputs, labels in tqdm(train_dataloader):\n",
        "          inputs = inputs.to(device)\n",
        "          labels = labels.to(device)\n",
        "          running_loss += train_step(model,optimizer,inputs,labels)\n",
        "          if step % 10 == 0 and step!=0: \n",
        "              val_loss = validation(model,val_dataloader)\n",
        "              train_val_loss = {\n",
        "                  'train_loss': running_loss/10,\n",
        "                  'val_loss' : val_loss/len(val_dataloader)\n",
        "              }\n",
        "              log_metrics(train_val_loss,step)\n",
        "              running_loss = 0.0\n",
        "          step += 1\n",
        "  test_acc = test(model.to(device),test_dataloader)\n",
        "  log_metrics({'Test Accuracy':test_acc})\n",
        "  mlflow.pytorch.log_model(model,artifact_path='model')"
      ],
      "metadata": {
        "id": "uGWWJGZeCgb1",
        "trusted": true,
        "colab": {
          "base_uri": "https://localhost:8080/"
        },
        "outputId": "5ea0ea6c-2df7-4f3b-815f-0346db3818e0"
      },
      "execution_count": 21,
      "outputs": [
        {
          "output_type": "stream",
          "name": "stderr",
          "text": [
            " 93%|█████████▎| 71/76 [00:43<00:06,  1.37s/it]/usr/local/lib/python3.7/dist-packages/PIL/Image.py:960: UserWarning: Palette images with Transparency expressed in bytes should be converted to RGBA images\n",
            "  \"Palette images with Transparency expressed in bytes should be \"\n",
            "100%|██████████| 76/76 [00:43<00:00,  1.75it/s]\n",
            " 18%|█▊        | 14/76 [00:05<00:15,  3.90it/s]/usr/local/lib/python3.7/dist-packages/PIL/Image.py:960: UserWarning: Palette images with Transparency expressed in bytes should be converted to RGBA images\n",
            "  \"Palette images with Transparency expressed in bytes should be \"\n",
            "100%|██████████| 76/76 [00:36<00:00,  2.06it/s]\n",
            "  4%|▍         | 3/76 [00:00<00:14,  5.18it/s]/usr/local/lib/python3.7/dist-packages/PIL/Image.py:960: UserWarning: Palette images with Transparency expressed in bytes should be converted to RGBA images\n",
            "  \"Palette images with Transparency expressed in bytes should be \"\n",
            "100%|██████████| 76/76 [00:33<00:00,  2.27it/s]\n",
            " 41%|████      | 31/76 [00:13<00:12,  3.60it/s]/usr/local/lib/python3.7/dist-packages/PIL/Image.py:960: UserWarning: Palette images with Transparency expressed in bytes should be converted to RGBA images\n",
            "  \"Palette images with Transparency expressed in bytes should be \"\n",
            "100%|██████████| 76/76 [00:36<00:00,  2.08it/s]\n",
            "  1%|▏         | 1/76 [00:00<00:17,  4.19it/s]/usr/local/lib/python3.7/dist-packages/PIL/Image.py:960: UserWarning: Palette images with Transparency expressed in bytes should be converted to RGBA images\n",
            "  \"Palette images with Transparency expressed in bytes should be \"\n",
            "100%|██████████| 76/76 [00:33<00:00,  2.24it/s]\n",
            " 50%|█████     | 38/76 [00:18<00:11,  3.20it/s]/usr/local/lib/python3.7/dist-packages/PIL/Image.py:960: UserWarning: Palette images with Transparency expressed in bytes should be converted to RGBA images\n",
            "  \"Palette images with Transparency expressed in bytes should be \"\n",
            "100%|██████████| 76/76 [00:36<00:00,  2.08it/s]\n",
            " 53%|█████▎    | 40/76 [00:20<00:17,  2.03it/s]/usr/local/lib/python3.7/dist-packages/PIL/Image.py:960: UserWarning: Palette images with Transparency expressed in bytes should be converted to RGBA images\n",
            "  \"Palette images with Transparency expressed in bytes should be \"\n",
            "100%|██████████| 76/76 [00:37<00:00,  2.00it/s]\n",
            " 22%|██▏       | 17/76 [00:06<00:16,  3.55it/s]/usr/local/lib/python3.7/dist-packages/PIL/Image.py:960: UserWarning: Palette images with Transparency expressed in bytes should be converted to RGBA images\n",
            "  \"Palette images with Transparency expressed in bytes should be \"\n",
            "100%|██████████| 76/76 [00:33<00:00,  2.25it/s]\n",
            " 17%|█▋        | 13/76 [00:09<01:13,  1.16s/it]/usr/local/lib/python3.7/dist-packages/PIL/Image.py:960: UserWarning: Palette images with Transparency expressed in bytes should be converted to RGBA images\n",
            "  \"Palette images with Transparency expressed in bytes should be \"\n",
            "100%|██████████| 76/76 [00:37<00:00,  2.02it/s]\n",
            " 32%|███▏      | 24/76 [00:10<00:15,  3.40it/s]/usr/local/lib/python3.7/dist-packages/PIL/Image.py:960: UserWarning: Palette images with Transparency expressed in bytes should be converted to RGBA images\n",
            "  \"Palette images with Transparency expressed in bytes should be \"\n",
            "100%|██████████| 76/76 [00:33<00:00,  2.25it/s]\n",
            "2022/12/01 02:06:50 WARNING mlflow.utils.requirements_utils: Found torch version (1.12.1+cu113) contains a local version label (+cu113). MLflow logged a pip requirement for this package as 'torch==1.12.1' without the local version label to make it installable from PyPI. To specify pip requirements containing local version labels, please use `conda_env` or `pip_requirements`.\n",
            "2022/12/01 02:06:55 WARNING mlflow.utils.requirements_utils: Found torch version (1.12.1+cu113) contains a local version label (+cu113). MLflow logged a pip requirement for this package as 'torch==1.12.1' without the local version label to make it installable from PyPI. To specify pip requirements containing local version labels, please use `conda_env` or `pip_requirements`.\n"
          ]
        }
      ]
    },
    {
      "cell_type": "markdown",
      "source": [
        "## Data Augmentation"
      ],
      "metadata": {
        "id": "a6wvG086-zhP"
      }
    },
    {
      "cell_type": "code",
      "source": [
        "transforms_aug = transforms.RandomApply(torch.nn.ModuleList([\n",
        "      transforms.RandomHorizontalFlip(),\n",
        "      transforms.RandomVerticalFlip(),\n",
        "      transforms.RandomAffine(20)\n",
        " ]), p=0.4)\n",
        "transform_train = transforms.Compose(\n",
        "    [ \n",
        "      transforms_aug,\n",
        "      transforms.ToTensor(),\n",
        "      transforms.Resize((128,128)),\n",
        "      transforms.Normalize((0.5, 0.5, 0.5), (0.5, 0.5, 0.5))])\n",
        "\n",
        "train_set = ImageFolder(root='./train', transform=transform_train)"
      ],
      "metadata": {
        "id": "2Vn_GSJH-y4K",
        "trusted": true
      },
      "execution_count": 61,
      "outputs": []
    },
    {
      "cell_type": "code",
      "source": [
        "class Model(nn.Module):\n",
        "    def __init__(self):\n",
        "        super().__init__()\n",
        "        self.conv1 = nn.Conv2d(3, 16, 3)\n",
        "        self.pool = nn.MaxPool2d(2, 2)\n",
        "        self.conv2 = nn.Conv2d(16, 32, 5)\n",
        "        self.conv3 = nn.Conv2d(32, 64, 5)\n",
        "        self.fc1 = nn.Linear(9216, 128)\n",
        "        self.fc2 = nn.Linear(128, 6)\n",
        "\n",
        "\n",
        "    def forward(self, x):\n",
        "        x = self.pool(F.relu(self.conv1(x)))\n",
        "        x = self.pool(F.relu(self.conv2(x)))\n",
        "        x = self.pool(F.relu(self.conv3(x)))\n",
        "        x = torch.flatten(x, 1) # flatten all dimensions except batch\n",
        "        x = F.relu(self.fc1(x))\n",
        "        x = self.fc2(x)\n",
        "        return x\n",
        "\n",
        "model = Model().to(device)"
      ],
      "metadata": {
        "id": "eePH8zYt8WeC",
        "trusted": true
      },
      "execution_count": 23,
      "outputs": []
    },
    {
      "cell_type": "code",
      "source": [
        "model_params  = {'data_augmentation':True,'transfer learning':False,'conv and pool layers' : 3,'fully_connected_layers' : 2,'filters_size' : '3,5,5','batch_size' : 16}\n",
        "train_dataloader = torch.utils.data.DataLoader(train_set, batch_size=model_params['batch_size'],shuffle=True, num_workers=1)\n",
        "optimizer = optim.Adam(model.parameters(),0.001)"
      ],
      "metadata": {
        "id": "kW_qVwMA_SKg",
        "trusted": true
      },
      "execution_count": 62,
      "outputs": []
    },
    {
      "cell_type": "code",
      "source": [
        "with mlflow.start_run(run_name='Baseline_CNN_with_data_aug',nested=True):\n",
        "  log_params(model_params)\n",
        "  step = 0\n",
        "  for epoch in range(10):  # loop over the dataset multiple times\n",
        "      running_loss = 0.0\n",
        "      for inputs, labels in tqdm(train_dataloader):\n",
        "          inputs = inputs.to(device)\n",
        "          labels = labels.to(device)\n",
        "          running_loss += train_step(model,optimizer,inputs,labels)\n",
        "          if step % 10 == 0 and step!=0: \n",
        "              val_loss = validation(model,val_dataloader)\n",
        "              train_val_loss = {\n",
        "                  'train_loss': running_loss/10,\n",
        "                  'val_loss' : val_loss/len(val_dataloader)\n",
        "              }\n",
        "              log_metrics(train_val_loss,step)\n",
        "              running_loss = 0.0\n",
        "          step += 1\n",
        "  test_acc = test(model.to(device),test_dataloader)\n",
        "  log_metrics({'Test Accuracy':test_acc})\n",
        "  mlflow.pytorch.log_model(model,artifact_path='model')"
      ],
      "metadata": {
        "id": "gboBNSNY_Acs",
        "trusted": true,
        "colab": {
          "base_uri": "https://localhost:8080/"
        },
        "outputId": "24c63a5e-a18a-4a06-9c0d-546135b2ea9a"
      },
      "execution_count": 25,
      "outputs": [
        {
          "output_type": "stream",
          "name": "stderr",
          "text": [
            " 18%|█▊        | 14/76 [00:05<00:33,  1.84it/s]/usr/local/lib/python3.7/dist-packages/PIL/Image.py:960: UserWarning: Palette images with Transparency expressed in bytes should be converted to RGBA images\n",
            "  \"Palette images with Transparency expressed in bytes should be \"\n",
            "100%|██████████| 76/76 [00:34<00:00,  2.20it/s]\n",
            " 32%|███▏      | 24/76 [00:10<00:12,  4.21it/s]/usr/local/lib/python3.7/dist-packages/PIL/Image.py:960: UserWarning: Palette images with Transparency expressed in bytes should be converted to RGBA images\n",
            "  \"Palette images with Transparency expressed in bytes should be \"\n",
            "100%|██████████| 76/76 [00:38<00:00,  1.99it/s]\n",
            " 11%|█         | 8/76 [00:01<00:13,  4.95it/s]/usr/local/lib/python3.7/dist-packages/PIL/Image.py:960: UserWarning: Palette images with Transparency expressed in bytes should be converted to RGBA images\n",
            "  \"Palette images with Transparency expressed in bytes should be \"\n",
            "100%|██████████| 76/76 [00:34<00:00,  2.23it/s]\n",
            " 17%|█▋        | 13/76 [00:08<01:13,  1.17s/it]/usr/local/lib/python3.7/dist-packages/PIL/Image.py:960: UserWarning: Palette images with Transparency expressed in bytes should be converted to RGBA images\n",
            "  \"Palette images with Transparency expressed in bytes should be \"\n",
            "100%|██████████| 76/76 [00:37<00:00,  2.04it/s]\n",
            " 43%|████▎     | 33/76 [00:15<00:15,  2.81it/s]/usr/local/lib/python3.7/dist-packages/PIL/Image.py:960: UserWarning: Palette images with Transparency expressed in bytes should be converted to RGBA images\n",
            "  \"Palette images with Transparency expressed in bytes should be \"\n",
            "100%|██████████| 76/76 [00:34<00:00,  2.23it/s]\n",
            " 58%|█████▊    | 44/76 [00:22<00:17,  1.86it/s]/usr/local/lib/python3.7/dist-packages/PIL/Image.py:960: UserWarning: Palette images with Transparency expressed in bytes should be converted to RGBA images\n",
            "  \"Palette images with Transparency expressed in bytes should be \"\n",
            "100%|██████████| 76/76 [00:37<00:00,  2.03it/s]\n",
            "  4%|▍         | 3/76 [00:00<00:14,  4.99it/s]/usr/local/lib/python3.7/dist-packages/PIL/Image.py:960: UserWarning: Palette images with Transparency expressed in bytes should be converted to RGBA images\n",
            "  \"Palette images with Transparency expressed in bytes should be \"\n",
            "100%|██████████| 76/76 [00:37<00:00,  2.04it/s]\n",
            " 70%|██████▉   | 53/76 [00:25<00:11,  1.96it/s]/usr/local/lib/python3.7/dist-packages/PIL/Image.py:960: UserWarning: Palette images with Transparency expressed in bytes should be converted to RGBA images\n",
            "  \"Palette images with Transparency expressed in bytes should be \"\n",
            "100%|██████████| 76/76 [00:35<00:00,  2.14it/s]\n",
            " 11%|█         | 8/76 [00:04<00:28,  2.38it/s]/usr/local/lib/python3.7/dist-packages/PIL/Image.py:960: UserWarning: Palette images with Transparency expressed in bytes should be converted to RGBA images\n",
            "  \"Palette images with Transparency expressed in bytes should be \"\n",
            "100%|██████████| 76/76 [00:36<00:00,  2.06it/s]\n",
            "  5%|▌         | 4/76 [00:00<00:14,  4.99it/s]/usr/local/lib/python3.7/dist-packages/PIL/Image.py:960: UserWarning: Palette images with Transparency expressed in bytes should be converted to RGBA images\n",
            "  \"Palette images with Transparency expressed in bytes should be \"\n",
            "100%|██████████| 76/76 [00:34<00:00,  2.22it/s]\n",
            "2022/12/01 02:12:58 WARNING mlflow.utils.requirements_utils: Found torch version (1.12.1+cu113) contains a local version label (+cu113). MLflow logged a pip requirement for this package as 'torch==1.12.1' without the local version label to make it installable from PyPI. To specify pip requirements containing local version labels, please use `conda_env` or `pip_requirements`.\n",
            "2022/12/01 02:13:02 WARNING mlflow.utils.requirements_utils: Found torch version (1.12.1+cu113) contains a local version label (+cu113). MLflow logged a pip requirement for this package as 'torch==1.12.1' without the local version label to make it installable from PyPI. To specify pip requirements containing local version labels, please use `conda_env` or `pip_requirements`.\n"
          ]
        }
      ]
    },
    {
      "cell_type": "markdown",
      "source": [
        "## Transfer Learning"
      ],
      "metadata": {
        "id": "uQ2lDs4lIPwk"
      }
    },
    {
      "cell_type": "code",
      "source": [
        "transform = transforms.Compose([\n",
        "        transforms.Resize(256),\n",
        "        transforms.CenterCrop(224),\n",
        "        transforms.ToTensor(),\n",
        "        transforms.Normalize(mean=[0.485, 0.456, 0.406], std=[0.229, 0.224, 0.225]),\n",
        "    ])\n",
        "\n",
        "train_set = ImageFolder(root='./train', transform=transform)\n",
        "val_set = ImageFolder(root='./val', transform=transform)\n",
        "test_set = ImageFolder(root='./test', transform=transform)"
      ],
      "metadata": {
        "id": "MjmnP6OL1d6r",
        "trusted": true
      },
      "execution_count": 26,
      "outputs": []
    },
    {
      "cell_type": "code",
      "source": [
        "pretrained_model = torchvision.models.vgg13(pretrained=True)"
      ],
      "metadata": {
        "id": "VPUdVPfEF0pw",
        "trusted": true,
        "colab": {
          "base_uri": "https://localhost:8080/",
          "height": 158,
          "referenced_widgets": [
            "02f1a1f1d96e4829bc11897ddd0016db",
            "49b2de9ef8914d5d8118c24b555a9167",
            "87554c6d58564de080fa115348afb9be",
            "4cb54e56f8ab434089cc6fefb6fa4487",
            "d06852afca7f4135b6da35dca995e3bc",
            "e491eaa525114386acbce50bf6ceb3cd",
            "8cd6aaf1365f49489b60a206608fca69",
            "ef15c36461f948ef96c71c56b28a3b20",
            "c0212667c0ab4aa8ae72a6b602d18d54",
            "f56af16fb8dd4c41b1850ffd16b8b8d6",
            "3be060b9c37e4570989fe1beab4bd4c8"
          ]
        },
        "outputId": "24b352d0-d20e-4f5a-ed03-8d9749bf67c6"
      },
      "execution_count": 27,
      "outputs": [
        {
          "output_type": "stream",
          "name": "stderr",
          "text": [
            "/usr/local/lib/python3.7/dist-packages/torchvision/models/_utils.py:209: UserWarning: The parameter 'pretrained' is deprecated since 0.13 and will be removed in 0.15, please use 'weights' instead.\n",
            "  f\"The parameter '{pretrained_param}' is deprecated since 0.13 and will be removed in 0.15, \"\n",
            "/usr/local/lib/python3.7/dist-packages/torchvision/models/_utils.py:223: UserWarning: Arguments other than a weight enum or `None` for 'weights' are deprecated since 0.13 and will be removed in 0.15. The current behavior is equivalent to passing `weights=VGG13_Weights.IMAGENET1K_V1`. You can also use `weights=VGG13_Weights.DEFAULT` to get the most up-to-date weights.\n",
            "  warnings.warn(msg)\n",
            "Downloading: \"https://download.pytorch.org/models/vgg13-19584684.pth\" to /root/.cache/torch/hub/checkpoints/vgg13-19584684.pth\n"
          ]
        },
        {
          "output_type": "display_data",
          "data": {
            "text/plain": [
              "  0%|          | 0.00/508M [00:00<?, ?B/s]"
            ],
            "application/vnd.jupyter.widget-view+json": {
              "version_major": 2,
              "version_minor": 0,
              "model_id": "02f1a1f1d96e4829bc11897ddd0016db"
            }
          },
          "metadata": {}
        }
      ]
    },
    {
      "cell_type": "code",
      "source": [
        "class Model(nn.Module):\n",
        "    def __init__(self,pretrained,num_classes):\n",
        "        super().__init__()\n",
        "        for param in pretrained.parameters():\n",
        "            param.requires_grad = False\n",
        "        pretrained.classifier[6] = nn.Linear(4096,num_classes)\n",
        "        self.model = pretrained\n",
        "\n",
        "    def forward(self, x):\n",
        "        output = self.model(x)\n",
        "        return output\n",
        "model = Model(pretrained_model,6).to(device)"
      ],
      "metadata": {
        "id": "Q0IlwQMDHzjo",
        "trusted": true
      },
      "execution_count": 28,
      "outputs": []
    },
    {
      "cell_type": "code",
      "source": [
        "model_params  = {'data_augmentation':False,'transfer learning':True,'conv and pool layers' : 10,'fully_connected_layers' : 3,'batch_size' : 16}\n",
        "train_dataloader = torch.utils.data.DataLoader(train_set, batch_size=model_params['batch_size'],shuffle=True, num_workers=1)\n",
        "val_dataloader = torch.utils.data.DataLoader(val_set, batch_size=model_params['batch_size'],shuffle=False, num_workers=1)\n",
        "test_dataloader = torch.utils.data.DataLoader(test_set, batch_size=model_params['batch_size'],shuffle=False, num_workers=1)\n",
        "optimizer = optim.Adam(model.parameters())"
      ],
      "metadata": {
        "id": "cF9miqTG2JW1",
        "trusted": true
      },
      "execution_count": 29,
      "outputs": []
    },
    {
      "cell_type": "code",
      "source": [
        "with mlflow.start_run(run_name='VGG_transfer_learning',nested=True):\n",
        "  log_params(model_params)\n",
        "  step = 0\n",
        "  for epoch in range(5):  # loop over the dataset multiple times\n",
        "      running_loss = 0.0\n",
        "      for inputs, labels in tqdm(train_dataloader):\n",
        "          inputs = inputs.to(device)\n",
        "          labels = labels.to(device)\n",
        "          running_loss += train_step(model,optimizer,inputs,labels)\n",
        "          if step % 10 == 0 and step!=0: \n",
        "              val_loss = validation(model,val_dataloader)\n",
        "              train_val_loss = {\n",
        "                  'train_loss': running_loss/10,\n",
        "                  'val_loss' : val_loss/len(val_dataloader)\n",
        "              }\n",
        "              log_metrics(train_val_loss,step)\n",
        "              running_loss = 0.0\n",
        "          step += 1\n",
        "  test_acc = test(model.to(device),test_dataloader)\n",
        "  log_metrics({'Test Accuracy':test_acc})\n",
        "  mlflow.pytorch.log_model(model,artifact_path='model')"
      ],
      "metadata": {
        "colab": {
          "base_uri": "https://localhost:8080/"
        },
        "id": "PPLkzD7xOG7s",
        "outputId": "0b53c3ed-2189-4b21-b3ab-8ccc55108324",
        "trusted": true
      },
      "execution_count": 30,
      "outputs": [
        {
          "output_type": "stream",
          "name": "stderr",
          "text": [
            "  1%|▏         | 1/76 [00:00<00:36,  2.04it/s]/usr/local/lib/python3.7/dist-packages/PIL/Image.py:960: UserWarning: Palette images with Transparency expressed in bytes should be converted to RGBA images\n",
            "  \"Palette images with Transparency expressed in bytes should be \"\n",
            "100%|██████████| 76/76 [00:39<00:00,  1.95it/s]\n",
            "  7%|▋         | 5/76 [00:04<01:46,  1.51s/it]/usr/local/lib/python3.7/dist-packages/PIL/Image.py:960: UserWarning: Palette images with Transparency expressed in bytes should be converted to RGBA images\n",
            "  \"Palette images with Transparency expressed in bytes should be \"\n",
            "100%|██████████| 76/76 [00:42<00:00,  1.80it/s]\n",
            " 11%|█         | 8/76 [00:01<00:13,  4.87it/s]/usr/local/lib/python3.7/dist-packages/PIL/Image.py:960: UserWarning: Palette images with Transparency expressed in bytes should be converted to RGBA images\n",
            "  \"Palette images with Transparency expressed in bytes should be \"\n",
            "100%|██████████| 76/76 [00:40<00:00,  1.89it/s]\n",
            "  0%|          | 0/76 [00:00<?, ?it/s]/usr/local/lib/python3.7/dist-packages/PIL/Image.py:960: UserWarning: Palette images with Transparency expressed in bytes should be converted to RGBA images\n",
            "  \"Palette images with Transparency expressed in bytes should be \"\n",
            "100%|██████████| 76/76 [00:49<00:00,  1.54it/s]\n",
            " 32%|███▏      | 24/76 [00:11<00:16,  3.20it/s]/usr/local/lib/python3.7/dist-packages/PIL/Image.py:960: UserWarning: Palette images with Transparency expressed in bytes should be converted to RGBA images\n",
            "  \"Palette images with Transparency expressed in bytes should be \"\n",
            "100%|██████████| 76/76 [00:38<00:00,  1.97it/s]\n",
            "2022/12/01 02:16:46 WARNING mlflow.utils.requirements_utils: Found torch version (1.12.1+cu113) contains a local version label (+cu113). MLflow logged a pip requirement for this package as 'torch==1.12.1' without the local version label to make it installable from PyPI. To specify pip requirements containing local version labels, please use `conda_env` or `pip_requirements`.\n",
            "2022/12/01 02:16:51 WARNING mlflow.utils.environment: Encountered an unexpected error while inferring pip requirements (model URI: /tmp/tmpjpre9104/model/data, flavor: pytorch), fall back to return ['torch==1.12.1', 'cloudpickle==1.5.0']. Set logging level to DEBUG to see the full traceback.\n"
          ]
        }
      ]
    },
    {
      "cell_type": "code",
      "source": [
        "test_acc = test(model.to(device),test_dataloader)"
      ],
      "metadata": {
        "id": "geWceiWtbg_Y",
        "trusted": true
      },
      "execution_count": 31,
      "outputs": []
    },
    {
      "cell_type": "markdown",
      "source": [
        "## Transfer learning with Classical ML Model"
      ],
      "metadata": {
        "id": "DA9bVeMBeGe3"
      }
    },
    {
      "cell_type": "code",
      "source": [
        "transform = transforms.Compose([\n",
        "        transforms.Resize(256),\n",
        "        transforms.CenterCrop(224),\n",
        "        transforms.ToTensor(),\n",
        "        transforms.Normalize(mean=[0.485, 0.456, 0.406], std=[0.229, 0.224, 0.225]),\n",
        "    ])\n",
        "\n",
        "train_set = ImageFolder(root='./train', transform=transform)\n",
        "val_set = ImageFolder(root='./val', transform=transform)\n",
        "test_set = ImageFolder(root='./test', transform=transform)\n",
        "\n",
        "train_dataloader = torch.utils.data.DataLoader(train_set, batch_size=model_params['batch_size'],shuffle=True, num_workers=1)\n",
        "val_dataloader = torch.utils.data.DataLoader(val_set, batch_size=model_params['batch_size'],shuffle=False, num_workers=1)\n",
        "test_dataloader = torch.utils.data.DataLoader(test_set, batch_size=model_params['batch_size'],shuffle=False, num_workers=1)\n"
      ],
      "metadata": {
        "id": "jWqKDyZFfqff"
      },
      "execution_count": 32,
      "outputs": []
    },
    {
      "cell_type": "code",
      "source": [
        "feature_extractor = torchvision.models.vgg13(pretrained=True)\n",
        "feature_extractor.classifier = feature_extractor.classifier[:4]"
      ],
      "metadata": {
        "id": "9rucXlI7X5o5"
      },
      "execution_count": 33,
      "outputs": []
    },
    {
      "cell_type": "code",
      "source": [
        "def get_features(datalaoder,model):\n",
        "  data = None\n",
        "  label = None\n",
        "  model.to(device)\n",
        "  model.eval()\n",
        "  for inputs, labels in tqdm(datalaoder):\n",
        "          inputs = inputs.to(device)\n",
        "          with torch.no_grad():\n",
        "            if data is not None: data = np.append(data,model(inputs).cpu().numpy(),axis=0)\n",
        "            else: data = model(inputs).cpu().numpy()\n",
        "          if label is not None: label = np.append(label,labels,axis=0)\n",
        "          else: label = labels.numpy()\n",
        "  return data,label"
      ],
      "metadata": {
        "id": "MFgt2SgKaSo9"
      },
      "execution_count": 34,
      "outputs": []
    },
    {
      "cell_type": "code",
      "source": [
        "train_data,train_label = get_features(train_dataloader,feature_extractor)\n",
        "val_data,val_label = get_features(val_dataloader,feature_extractor)\n",
        "test_data,test_label = get_features(test_dataloader,feature_extractor)"
      ],
      "metadata": {
        "colab": {
          "base_uri": "https://localhost:8080/"
        },
        "id": "bIszhdALcY_y",
        "outputId": "82fa1a8b-5d5d-44eb-957d-affef7b3510d"
      },
      "execution_count": 35,
      "outputs": [
        {
          "output_type": "stream",
          "name": "stderr",
          "text": [
            " 36%|███▌      | 27/76 [00:06<00:10,  4.78it/s]/usr/local/lib/python3.7/dist-packages/PIL/Image.py:960: UserWarning: Palette images with Transparency expressed in bytes should be converted to RGBA images\n",
            "  \"Palette images with Transparency expressed in bytes should be \"\n",
            "100%|██████████| 76/76 [00:16<00:00,  4.65it/s]\n",
            "100%|██████████| 16/16 [00:04<00:00,  3.82it/s]\n",
            "100%|██████████| 16/16 [00:03<00:00,  4.66it/s]\n"
          ]
        }
      ]
    },
    {
      "cell_type": "markdown",
      "source": [
        "SVM"
      ],
      "metadata": {
        "id": "2YIfZ_G7epnK"
      }
    },
    {
      "cell_type": "code",
      "source": [
        "from sklearn.svm import SVC"
      ],
      "metadata": {
        "id": "lewdH1FVzmUW"
      },
      "execution_count": 36,
      "outputs": []
    },
    {
      "cell_type": "code",
      "source": [
        "model_params  = {'transfer learning':True}"
      ],
      "metadata": {
        "id": "v1LYb325x3Yi"
      },
      "execution_count": 37,
      "outputs": []
    },
    {
      "cell_type": "code",
      "source": [
        "with mlflow.start_run(run_name='SVM_VGG_features',nested=True):\n",
        "  sv_clf = SVC()\n",
        "  sv_clf.fit(train_data,train_label)\n",
        "  test_predict = sv_clf.predict(test_data)\n",
        "  test_acc = (test_predict == test_label).sum()/len(test_predict)\n",
        "  log_metrics({'Test Accuracy':test_acc})\n"
      ],
      "metadata": {
        "id": "EypcjHDiUu3Q"
      },
      "execution_count": 38,
      "outputs": []
    },
    {
      "cell_type": "markdown",
      "source": [
        "### KNN"
      ],
      "metadata": {
        "id": "VHyYKUGCqiud"
      }
    },
    {
      "cell_type": "code",
      "source": [
        "from sklearn.neighbors import KNeighborsClassifier"
      ],
      "metadata": {
        "id": "Z0cv9F0mhIWM"
      },
      "execution_count": 39,
      "outputs": []
    },
    {
      "cell_type": "code",
      "source": [
        "with mlflow.start_run(run_name='KNN_VGG_features',nested=True):\n",
        "  neigh = KNeighborsClassifier(n_neighbors=5)\n",
        "  neigh.fit(train_data,train_label)\n",
        "  test_predict = neigh.predict(test_data)\n",
        "  test_acc = (test_predict == test_label).sum()/len(test_predict)\n",
        "  log_metrics({'Test Accuracy':test_acc})"
      ],
      "metadata": {
        "id": "yhDQIdP4z2NA"
      },
      "execution_count": 40,
      "outputs": []
    },
    {
      "cell_type": "markdown",
      "source": [
        "## Compare performances"
      ],
      "metadata": {
        "id": "GmgkvDGnX6YK"
      }
    },
    {
      "cell_type": "code",
      "source": [
        "mlflow.search_runs()[['tags.mlflow.runName','metrics.Test Accuracy']]"
      ],
      "metadata": {
        "colab": {
          "base_uri": "https://localhost:8080/",
          "height": 206
        },
        "id": "ZU9nJBlG3Dsj",
        "outputId": "9edcb80a-2a44-4db4-f475-b08e40c9ccc5"
      },
      "execution_count": 41,
      "outputs": [
        {
          "output_type": "execute_result",
          "data": {
            "text/plain": [
              "          tags.mlflow.runName  metrics.Test Accuracy\n",
              "0            KNN_VGG_features               0.988281\n",
              "1            SVM_VGG_features               0.988281\n",
              "2       VGG_transfer_learning               0.992188\n",
              "3  Baseline_CNN_with_data_aug               0.597656\n",
              "4                Baseline_CNN               0.582031"
            ],
            "text/html": [
              "\n",
              "  <div id=\"df-b6b44c06-5a1a-44ad-a466-03136d4f30f9\">\n",
              "    <div class=\"colab-df-container\">\n",
              "      <div>\n",
              "<style scoped>\n",
              "    .dataframe tbody tr th:only-of-type {\n",
              "        vertical-align: middle;\n",
              "    }\n",
              "\n",
              "    .dataframe tbody tr th {\n",
              "        vertical-align: top;\n",
              "    }\n",
              "\n",
              "    .dataframe thead th {\n",
              "        text-align: right;\n",
              "    }\n",
              "</style>\n",
              "<table border=\"1\" class=\"dataframe\">\n",
              "  <thead>\n",
              "    <tr style=\"text-align: right;\">\n",
              "      <th></th>\n",
              "      <th>tags.mlflow.runName</th>\n",
              "      <th>metrics.Test Accuracy</th>\n",
              "    </tr>\n",
              "  </thead>\n",
              "  <tbody>\n",
              "    <tr>\n",
              "      <th>0</th>\n",
              "      <td>KNN_VGG_features</td>\n",
              "      <td>0.988281</td>\n",
              "    </tr>\n",
              "    <tr>\n",
              "      <th>1</th>\n",
              "      <td>SVM_VGG_features</td>\n",
              "      <td>0.988281</td>\n",
              "    </tr>\n",
              "    <tr>\n",
              "      <th>2</th>\n",
              "      <td>VGG_transfer_learning</td>\n",
              "      <td>0.992188</td>\n",
              "    </tr>\n",
              "    <tr>\n",
              "      <th>3</th>\n",
              "      <td>Baseline_CNN_with_data_aug</td>\n",
              "      <td>0.597656</td>\n",
              "    </tr>\n",
              "    <tr>\n",
              "      <th>4</th>\n",
              "      <td>Baseline_CNN</td>\n",
              "      <td>0.582031</td>\n",
              "    </tr>\n",
              "  </tbody>\n",
              "</table>\n",
              "</div>\n",
              "      <button class=\"colab-df-convert\" onclick=\"convertToInteractive('df-b6b44c06-5a1a-44ad-a466-03136d4f30f9')\"\n",
              "              title=\"Convert this dataframe to an interactive table.\"\n",
              "              style=\"display:none;\">\n",
              "        \n",
              "  <svg xmlns=\"http://www.w3.org/2000/svg\" height=\"24px\"viewBox=\"0 0 24 24\"\n",
              "       width=\"24px\">\n",
              "    <path d=\"M0 0h24v24H0V0z\" fill=\"none\"/>\n",
              "    <path d=\"M18.56 5.44l.94 2.06.94-2.06 2.06-.94-2.06-.94-.94-2.06-.94 2.06-2.06.94zm-11 1L8.5 8.5l.94-2.06 2.06-.94-2.06-.94L8.5 2.5l-.94 2.06-2.06.94zm10 10l.94 2.06.94-2.06 2.06-.94-2.06-.94-.94-2.06-.94 2.06-2.06.94z\"/><path d=\"M17.41 7.96l-1.37-1.37c-.4-.4-.92-.59-1.43-.59-.52 0-1.04.2-1.43.59L10.3 9.45l-7.72 7.72c-.78.78-.78 2.05 0 2.83L4 21.41c.39.39.9.59 1.41.59.51 0 1.02-.2 1.41-.59l7.78-7.78 2.81-2.81c.8-.78.8-2.07 0-2.86zM5.41 20L4 18.59l7.72-7.72 1.47 1.35L5.41 20z\"/>\n",
              "  </svg>\n",
              "      </button>\n",
              "      \n",
              "  <style>\n",
              "    .colab-df-container {\n",
              "      display:flex;\n",
              "      flex-wrap:wrap;\n",
              "      gap: 12px;\n",
              "    }\n",
              "\n",
              "    .colab-df-convert {\n",
              "      background-color: #E8F0FE;\n",
              "      border: none;\n",
              "      border-radius: 50%;\n",
              "      cursor: pointer;\n",
              "      display: none;\n",
              "      fill: #1967D2;\n",
              "      height: 32px;\n",
              "      padding: 0 0 0 0;\n",
              "      width: 32px;\n",
              "    }\n",
              "\n",
              "    .colab-df-convert:hover {\n",
              "      background-color: #E2EBFA;\n",
              "      box-shadow: 0px 1px 2px rgba(60, 64, 67, 0.3), 0px 1px 3px 1px rgba(60, 64, 67, 0.15);\n",
              "      fill: #174EA6;\n",
              "    }\n",
              "\n",
              "    [theme=dark] .colab-df-convert {\n",
              "      background-color: #3B4455;\n",
              "      fill: #D2E3FC;\n",
              "    }\n",
              "\n",
              "    [theme=dark] .colab-df-convert:hover {\n",
              "      background-color: #434B5C;\n",
              "      box-shadow: 0px 1px 3px 1px rgba(0, 0, 0, 0.15);\n",
              "      filter: drop-shadow(0px 1px 2px rgba(0, 0, 0, 0.3));\n",
              "      fill: #FFFFFF;\n",
              "    }\n",
              "  </style>\n",
              "\n",
              "      <script>\n",
              "        const buttonEl =\n",
              "          document.querySelector('#df-b6b44c06-5a1a-44ad-a466-03136d4f30f9 button.colab-df-convert');\n",
              "        buttonEl.style.display =\n",
              "          google.colab.kernel.accessAllowed ? 'block' : 'none';\n",
              "\n",
              "        async function convertToInteractive(key) {\n",
              "          const element = document.querySelector('#df-b6b44c06-5a1a-44ad-a466-03136d4f30f9');\n",
              "          const dataTable =\n",
              "            await google.colab.kernel.invokeFunction('convertToInteractive',\n",
              "                                                     [key], {});\n",
              "          if (!dataTable) return;\n",
              "\n",
              "          const docLinkHtml = 'Like what you see? Visit the ' +\n",
              "            '<a target=\"_blank\" href=https://colab.research.google.com/notebooks/data_table.ipynb>data table notebook</a>'\n",
              "            + ' to learn more about interactive tables.';\n",
              "          element.innerHTML = '';\n",
              "          dataTable['output_type'] = 'display_data';\n",
              "          await google.colab.output.renderOutput(dataTable, element);\n",
              "          const docLink = document.createElement('div');\n",
              "          docLink.innerHTML = docLinkHtml;\n",
              "          element.appendChild(docLink);\n",
              "        }\n",
              "      </script>\n",
              "    </div>\n",
              "  </div>\n",
              "  "
            ]
          },
          "metadata": {},
          "execution_count": 41
        }
      ]
    },
    {
      "cell_type": "code",
      "source": [
        "acc = mlflow.search_runs()[['tags.mlflow.runName','metrics.Test Accuracy']]\n",
        "ax = sns.barplot(x='tags.mlflow.runName',y='metrics.Test Accuracy',data=acc.sort_values('metrics.Test Accuracy',ascending=False))\n",
        "ax.tick_params(axis='x', rotation=90)\n"
      ],
      "metadata": {
        "colab": {
          "base_uri": "https://localhost:8080/",
          "height": 416
        },
        "id": "2gRKekBjYArV",
        "outputId": "7759b65a-3827-47bb-88fd-a0efff77d5c4"
      },
      "execution_count": 49,
      "outputs": [
        {
          "output_type": "display_data",
          "data": {
            "text/plain": [
              "<Figure size 432x288 with 1 Axes>"
            ],
            "image/png": "[encoded data removed]"
          },
          "metadata": {
            "needs_background": "light"
          }
        }
      ]
    },
    {
      "cell_type": "code",
      "source": [
        "time = mlflow.search_runs()[['tags.mlflow.runName','start_time','end_time']]\n",
        "time['Training time'] = (time['end_time'] - time['start_time']).dt.seconds/60"
      ],
      "metadata": {
        "id": "2mWzNh46gWHr"
      },
      "execution_count": 58,
      "outputs": []
    },
    {
      "cell_type": "code",
      "source": [
        "ax = sns.barplot(x='tags.mlflow.runName',y='Training time',data=time.sort_values('Training time',ascending=False))\n",
        "ax.tick_params(axis='x', rotation=90)"
      ],
      "metadata": {
        "colab": {
          "base_uri": "https://localhost:8080/",
          "height": 416
        },
        "id": "8Wz32PsFgtrA",
        "outputId": "9a14b229-49b8-4fef-dd77-869cf7ee8f2d"
      },
      "execution_count": 60,
      "outputs": [
        {
          "output_type": "display_data",
          "data": {
            "text/plain": [
              "<Figure size 432x288 with 1 Axes>"
            ],
            "image/png": "[encoded data removed]"
          },
          "metadata": {
            "needs_background": "light"
          }
        }
      ]
    },
    {
      "cell_type": "code",
      "source": [
        "acc.sort_values()"
      ],
      "metadata": {
        "id": "4LKN45DofN81"
      },
      "execution_count": null,
      "outputs": []
    },
    {
      "cell_type": "markdown",
      "source": [
        "## Streamlit app"
      ],
      "metadata": {
        "id": "Plo5ijqAmkKP"
      }
    },
    {
      "cell_type": "code",
      "source": [
        "!mkdir models"
      ],
      "metadata": {
        "id": "Mriq2wBfnNP0"
      },
      "execution_count": 76,
      "outputs": []
    },
    {
      "cell_type": "code",
      "source": [
        "df = mlflow.search_runs()\n",
        "artifcat_uri = df[df['tags.mlflow.runName']=='VGG_transfer_learning']['artifact_uri'].values[0]\n",
        "model_path = f'{artifcat_uri}/model/data/model.pth'\n",
        "shutil.copy(model_path,'models/')"
      ],
      "metadata": {
        "colab": {
          "base_uri": "https://localhost:8080/",
          "height": 36
        },
        "id": "I9i8SXE2mnvO",
        "outputId": "f7f1a0ac-0d8d-42c6-b9c2-1e509ca98616"
      },
      "execution_count": 77,
      "outputs": [
        {
          "output_type": "execute_result",
          "data": {
            "text/plain": [
              "'models/model.pth'"
            ],
            "application/vnd.google.colaboratory.intrinsic+json": {
              "type": "string"
            }
          },
          "metadata": {},
          "execution_count": 77
        }
      ]
    },
    {
      "cell_type": "code",
      "source": [
        "artifcat_uri"
      ],
      "metadata": {
        "colab": {
          "base_uri": "https://localhost:8080/",
          "height": 36
        },
        "id": "qwuS4AuLm8gZ",
        "outputId": "d7206a53-a3bb-45f6-9330-4950cf57f6c3"
      },
      "execution_count": 74,
      "outputs": [
        {
          "output_type": "execute_result",
          "data": {
            "text/plain": [
              "'./mlruns/0/8e48b541de06451b8404f7037eea6ab3/artifacts'"
            ],
            "application/vnd.google.colaboratory.intrinsic+json": {
              "type": "string"
            }
          },
          "metadata": {},
          "execution_count": 74
        }
      ]
    },
    {
      "cell_type": "code",
      "source": [
        "get_ipython().system_raw(\"streamlit run app.py --server.port 5001 &\")\n",
        "get_ipython().system_raw('lt --port 5001 >> url.txt 2>&1 &')"
      ],
      "metadata": {
        "id": "0xIc2dLRoszm"
      },
      "execution_count": 84,
      "outputs": []
    },
    {
      "cell_type": "code",
      "source": [],
      "metadata": {
        "id": "jFEYStUipEjD"
      },
      "execution_count": null,
      "outputs": []
    }
  ]
}